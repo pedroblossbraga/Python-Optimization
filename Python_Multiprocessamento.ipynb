{
  "nbformat": 4,
  "nbformat_minor": 0,
  "metadata": {
    "colab": {
      "name": "Python Multiprocessamento.ipynb",
      "provenance": [],
      "authorship_tag": "ABX9TyN39h3Esmnz+4/bDsup7Fld",
      "include_colab_link": true
    },
    "kernelspec": {
      "name": "python3",
      "display_name": "Python 3"
    }
  },
  "cells": [
    {
      "cell_type": "markdown",
      "metadata": {
        "id": "view-in-github",
        "colab_type": "text"
      },
      "source": [
        "<a href=\"https://colab.research.google.com/github/pedroblossbraga/Python-Optimization/blob/master/Python_Multiprocessamento.ipynb\" target=\"_parent\"><img src=\"https://colab.research.google.com/assets/colab-badge.svg\" alt=\"Open In Colab\"/></a>"
      ]
    },
    {
      "cell_type": "markdown",
      "metadata": {
        "id": "65WV1FTcYgmi",
        "colab_type": "text"
      },
      "source": [
        "# **Multiprocessamento em Python**: baseando-se na documentação.\n",
        "\n",
        ">\n",
        "\n",
        "Referência principal: [link text](https://docs.python.org/2/library/multiprocessing.html)\n",
        "\n",
        "https://docs.python.org/2/library/multiprocessing.html\n"
      ]
    },
    {
      "cell_type": "code",
      "metadata": {
        "id": "wj5yBevCXYTi",
        "colab_type": "code",
        "colab": {
          "base_uri": "https://localhost:8080/",
          "height": 34
        },
        "outputId": "2b8a1190-d4b5-4587-e6e5-303f4c56b785"
      },
      "source": [
        "from multiprocessing import Pool\n",
        "\n",
        "def f(x):\n",
        "    return x*x\n",
        "\n",
        "if __name__ == '__main__':\n",
        "    p = Pool(5)\n",
        "    print(p.map(f, [1, 2, 3]))\n"
      ],
      "execution_count": 1,
      "outputs": [
        {
          "output_type": "stream",
          "text": [
            "[1, 4, 9]\n"
          ],
          "name": "stdout"
        }
      ]
    },
    {
      "cell_type": "markdown",
      "metadata": {
        "id": "YPtru5xSXq8D",
        "colab_type": "text"
      },
      "source": [
        "# **6.6.1.1. A classe Process**"
      ]
    },
    {
      "cell_type": "code",
      "metadata": {
        "id": "ZDJyTxIaXkuM",
        "colab_type": "code",
        "colab": {
          "base_uri": "https://localhost:8080/",
          "height": 34
        },
        "outputId": "e20744ad-3519-4360-a802-60e7db21520b"
      },
      "source": [
        "from multiprocessing import Process\n",
        "\n",
        "def f(name):\n",
        "    print('hello', name)\n",
        "\n",
        "if __name__ == '__main__':\n",
        "    p = Process(target=f, args=('bob',))\n",
        "    p.start()\n",
        "    p.join()"
      ],
      "execution_count": 3,
      "outputs": [
        {
          "output_type": "stream",
          "text": [
            "hello bob\n"
          ],
          "name": "stdout"
        }
      ]
    },
    {
      "cell_type": "markdown",
      "metadata": {
        "id": "2jJi_2WWYCOs",
        "colab_type": "text"
      },
      "source": [
        "## Expondo os IDs dos processos:\n"
      ]
    },
    {
      "cell_type": "code",
      "metadata": {
        "id": "DjqsRuS7YFPE",
        "colab_type": "code",
        "colab": {
          "base_uri": "https://localhost:8080/",
          "height": 173
        },
        "outputId": "c3b31756-ba3b-4c60-e3aa-31bae9817617"
      },
      "source": [
        "from multiprocessing import Process\n",
        "import os\n",
        "\n",
        "def info(title):\n",
        "    print(title)\n",
        "    print('module name:', __name__)\n",
        "    if hasattr(os, 'getppid'):  # only available on Unix\n",
        "        print('parent process:', os.getppid())\n",
        "    print('process id:', os.getpid())\n",
        "\n",
        "def f(name):\n",
        "    info('function f')\n",
        "    print('hello', name)\n",
        "\n",
        "if __name__ == '__main__':\n",
        "    info('main line')\n",
        "    p = Process(target=f, args=('bob',))\n",
        "    p.start()\n",
        "    p.join()"
      ],
      "execution_count": 7,
      "outputs": [
        {
          "output_type": "stream",
          "text": [
            "main line\n",
            "module name: __main__\n",
            "parent process: 23\n",
            "process id: 124\n",
            "function f\n",
            "module name: __main__\n",
            "parent process: 124\n",
            "process id: 210\n",
            "hello bob\n"
          ],
          "name": "stdout"
        }
      ]
    },
    {
      "cell_type": "markdown",
      "metadata": {
        "id": "VABEMXrxX-TN",
        "colab_type": "text"
      },
      "source": [
        "# **16.6.1.2. Trocando objetos entre processos**¶\n",
        "\n",
        "o multiprocessamento suporta dois tipos de canal de comunicação entre processos:\n",
        "\n",
        ">\n",
        "\n",
        " - ## **Queues**\n",
        "\n",
        "    A classe Queue é praticamente um clone de Queue.Queue. Por exemplo:\n",
        "\n"
      ]
    },
    {
      "cell_type": "code",
      "metadata": {
        "id": "W19a6faxYa6J",
        "colab_type": "code",
        "colab": {
          "base_uri": "https://localhost:8080/",
          "height": 34
        },
        "outputId": "1a81507e-8c65-4190-e2ac-2a03706c1123"
      },
      "source": [
        "from multiprocessing import Process, Queue\n",
        "\n",
        "def f(q):\n",
        "    q.put([42, None, 'hello'])\n",
        "\n",
        "if __name__ == '__main__':\n",
        "    q = Queue()\n",
        "    p = Process(target=f, args=(q,))\n",
        "    p.start()\n",
        "    print(q.get())    # prints \"[42, None, 'hello']\"\n",
        "    p.join()"
      ],
      "execution_count": 9,
      "outputs": [
        {
          "output_type": "stream",
          "text": [
            "[42, None, 'hello']\n"
          ],
          "name": "stdout"
        }
      ]
    },
    {
      "cell_type": "markdown",
      "metadata": {
        "id": "ET74h-praJku",
        "colab_type": "text"
      },
      "source": [
        "    Queues are thread and process safe.\n",
        "\n",
        "\n",
        "- ## **Pipes**\n",
        "    A função Pipe () retorna um par de objetos de conexão conectados por um pipe que, por padrão, é duplex (bidirecional). Por exemplo:\n",
        "    "
      ]
    },
    {
      "cell_type": "code",
      "metadata": {
        "id": "XB1FG20wacwU",
        "colab_type": "code",
        "colab": {
          "base_uri": "https://localhost:8080/",
          "height": 34
        },
        "outputId": "56c16d4b-1f63-49c1-b0da-9518f6a868f2"
      },
      "source": [
        "from multiprocessing import Process, Pipe\n",
        "\n",
        "def f(conn):\n",
        "    conn.send([42, None, 'hello'])\n",
        "    conn.close()\n",
        "\n",
        "if __name__ == '__main__':\n",
        "    parent_conn, child_conn = Pipe()\n",
        "    p = Process(target=f, args=(child_conn,))\n",
        "    p.start()\n",
        "    print(parent_conn.recv())   # prints \"[42, None, 'hello']\"\n",
        "    p.join()"
      ],
      "execution_count": 11,
      "outputs": [
        {
          "output_type": "stream",
          "text": [
            "[42, None, 'hello']\n"
          ],
          "name": "stdout"
        }
      ]
    },
    {
      "cell_type": "markdown",
      "metadata": {
        "id": "1Q81axsGafUl",
        "colab_type": "text"
      },
      "source": [
        "Os dois objetos de conexão retornados por Pipe () representam as duas extremidades do pipe. Cada objeto de conexão possui os métodos send () e recv () (entre outros). \n",
        "\n",
        "<br>\n",
        "\n",
        "Observe que os dados em um canal podem ficar corrompidos se dois processos (ou threads) tentarem ler ou gravar na mesma extremidade do canal ao mesmo tempo. \n",
        "\n",
        "<br>\n",
        "\n",
        "Obviamente, não há risco de corrupção de processos que usam extremidades diferentes do pipe ao mesmo tempo."
      ]
    },
    {
      "cell_type": "markdown",
      "metadata": {
        "id": "9We1Pa9dauNb",
        "colab_type": "text"
      },
      "source": [
        "# **16.6.1.3 Sincronização entre processos¶**\n",
        "\n",
        "<br>\n",
        "\n",
        "o multiprocessamento contém equivalentes de todas as primitivas de sincronização do encadeamento. \n",
        "\n",
        "<br>\n",
        "\n",
        "Por exemplo, pode-se usar uma trava **(Lock)** para garantir que apenas um processo seja impresso na saída padrão de cada vez:\n",
        "\n",
        "\n",
        "\n",
        "\n",
        "\n",
        "\n"
      ]
    },
    {
      "cell_type": "code",
      "metadata": {
        "id": "04xLJphZbCpg",
        "colab_type": "code",
        "colab": {
          "base_uri": "https://localhost:8080/",
          "height": 191
        },
        "outputId": "d5a72c59-2f6b-4c8b-d1c9-f2fcda9b6dbd"
      },
      "source": [
        "from multiprocessing import Process, Lock\n",
        "\n",
        "def f(l, i):\n",
        "    l.acquire()\n",
        "    print('hello world', i)\n",
        "    l.release()\n",
        "\n",
        "if __name__ == '__main__':\n",
        "    lock = Lock()\n",
        "\n",
        "    for num in range(10):\n",
        "        Process(target=f, args=(lock, num)).start()"
      ],
      "execution_count": 12,
      "outputs": [
        {
          "output_type": "stream",
          "text": [
            "hello world 0\n",
            "hello world 1\n",
            "hello world 2\n",
            "hello world 3\n",
            "hello world 4\n",
            "hello world 5\n",
            "hello world 6\n",
            "hello world 7\n",
            "hello world 8\n",
            "hello world 9\n"
          ],
          "name": "stdout"
        }
      ]
    },
    {
      "cell_type": "markdown",
      "metadata": {
        "id": "3k_sBV5dbFVB",
        "colab_type": "text"
      },
      "source": [
        "Sem usar a saída de bloqueio dos diferentes processos, é possível que tudo fique confuso."
      ]
    },
    {
      "cell_type": "markdown",
      "metadata": {
        "id": "hqZ9FWP-bIqa",
        "colab_type": "text"
      },
      "source": [
        "# **16.6.1.4 Estado de compartilhamento entre processos**\n",
        "\n",
        "<br>\n",
        "\n",
        "Como mencionado acima, ao fazer programação simultânea (concurrent), geralmente é melhor evitar o uso do estado compartilhado na medida do possível. Isso é particularmente verdade ao usar vários processos.\n",
        "\n",
        "No entanto, se você realmente precisar usar alguns dados compartilhados, o multiprocessamento fornecerá algumas maneiras de fazer isso.\n",
        "\n",
        "- ### **Memoria compartilhada**\n",
        "\n",
        "Os dados podem ser armazenados em um mapa de memória compartilhada usando *Valor* ou *Array*. Por exemplo, o seguinte código:\n",
        "\n"
      ]
    },
    {
      "cell_type": "code",
      "metadata": {
        "id": "r2zoViKlbwF7",
        "colab_type": "code",
        "colab": {
          "base_uri": "https://localhost:8080/",
          "height": 52
        },
        "outputId": "5abd93e3-c848-49ab-8eb6-6d4b9e4fe579"
      },
      "source": [
        "from multiprocessing import Process, Value, Array\n",
        "\n",
        "def f(n, a):\n",
        "    n.value = 3.1415927\n",
        "    for i in range(len(a)):\n",
        "        a[i] = -a[i]\n",
        "\n",
        "if __name__ == '__main__':\n",
        "    num = Value('d', 0.0)\n",
        "    arr = Array('i', range(10))\n",
        "\n",
        "    p = Process(target=f, args=(num, arr))\n",
        "    p.start()\n",
        "    p.join()\n",
        "\n",
        "    print(num.value)\n",
        "    print(arr[:])"
      ],
      "execution_count": 14,
      "outputs": [
        {
          "output_type": "stream",
          "text": [
            "3.1415927\n",
            "[0, -1, -2, -3, -4, -5, -6, -7, -8, -9]\n"
          ],
          "name": "stdout"
        }
      ]
    },
    {
      "cell_type": "markdown",
      "metadata": {
        "id": "wFinrDtEb57P",
        "colab_type": "text"
      },
      "source": [
        "Os argumentos 'd' e 'i' usados ​​ao criar num e arr são códigos de tipo do tipo usado pelo módulo array: 'd' indica uma flutuação de precisão dupla e 'i' indica um número inteiro assinado. Esses objetos compartilhados serão seguros para processos e threads.\n",
        "\n",
        "<br>\n",
        "\n",
        "\n",
        "Para obter mais flexibilidade no uso da memória compartilhada, pode-se usar o módulo multiprocessing.sharedctypes, que suporta a criação de objetos ctypes arbitrários alocados na memória compartilhada.\n",
        "\n"
      ]
    },
    {
      "cell_type": "markdown",
      "metadata": {
        "id": "8w5ca1vIcB-B",
        "colab_type": "text"
      },
      "source": [
        "- ### **Processo do servidor**\n",
        "\n",
        "    Um objeto gerenciador retornado por **Manager ()** controla um processo do servidor que mantém objetos Python e permite que outros processos os manipulem usando proxies.\n",
        "\n",
        "    Um gerente retornado por **Manager ()** oferecerá suporte aos tipos *list, dict, Namespace, Lock, RLock, Semáforo, BoundedSemaphore, Condition, Event, Queue, Value e Array.* Por exemplo,\n",
        "\n"
      ]
    },
    {
      "cell_type": "code",
      "metadata": {
        "id": "bGHprNa-cr0x",
        "colab_type": "code",
        "colab": {
          "base_uri": "https://localhost:8080/",
          "height": 52
        },
        "outputId": "e0ae338f-7925-489b-a648-ad310e7bdb3d"
      },
      "source": [
        "from multiprocessing import Process, Manager\n",
        "\n",
        "def f(d, l):\n",
        "    d[1] = '1'\n",
        "    d['2'] = 2\n",
        "    d[0.25] = None\n",
        "    l.reverse()\n",
        "\n",
        "if __name__ == '__main__':\n",
        "    manager = Manager()\n",
        "\n",
        "    d = manager.dict()\n",
        "    l = manager.list(range(10))\n",
        "\n",
        "    p = Process(target=f, args=(d, l))\n",
        "    p.start()\n",
        "    p.join()\n",
        "\n",
        "    print(d)\n",
        "    print(l)"
      ],
      "execution_count": 15,
      "outputs": [
        {
          "output_type": "stream",
          "text": [
            "{1: '1', '2': 2, 0.25: None}\n",
            "[9, 8, 7, 6, 5, 4, 3, 2, 1, 0]\n"
          ],
          "name": "stdout"
        }
      ]
    },
    {
      "cell_type": "markdown",
      "metadata": {
        "id": "eIjWTn2CcuwY",
        "colab_type": "text"
      },
      "source": [
        "Os gerenciadores de processos do servidor são mais flexíveis do que o uso de objetos de memória compartilhada porque eles podem ser criados para suportar tipos de objetos arbitrários. \n",
        "\n",
        "Além disso, um único gerente pode ser compartilhado por processos em computadores diferentes em uma rede. \n",
        "\n",
        "Eles são, no entanto, mais lentos que o uso de memória compartilhada."
      ]
    },
    {
      "cell_type": "markdown",
      "metadata": {
        "id": "1X6uczQtc1Cf",
        "colab_type": "text"
      },
      "source": [
        "# **16.6.1.5 Usando um pool de trabalhadores**\n",
        "\n",
        "A classe *Pool* representa um conjunto de processos de trabalho. Possui métodos que permitem que as tarefas sejam transferidas para os processos de trabalho de algumas maneiras diferentes.\n",
        "\n",
        "<br>\n",
        "\n",
        "Por exemplo:"
      ]
    },
    {
      "cell_type": "code",
      "metadata": {
        "id": "oqnJ3ITcdE6Y",
        "colab_type": "code",
        "colab": {
          "base_uri": "https://localhost:8080/",
          "height": 278
        },
        "outputId": "49dc943d-1225-456b-a01e-ea45d64bd504"
      },
      "source": [
        "from multiprocessing import Pool, TimeoutError\n",
        "import time\n",
        "import os\n",
        "\n",
        "def f(x):\n",
        "    return x*x\n",
        "\n",
        "if __name__ == '__main__':\n",
        "    pool = Pool(processes=4)              # start 4 worker processes\n",
        "\n",
        "    # print \"[0, 1, 4,..., 81]\"\n",
        "    print(pool.map(f, range(10)))\n",
        "\n",
        "    # print same numbers in arbitrary order\n",
        "    for i in pool.imap_unordered(f, range(10)):\n",
        "        print(i)\n",
        "\n",
        "    # evaluate \"f(20)\" asynchronously\n",
        "    res = pool.apply_async(f, (20,))      # runs in *only* one process\n",
        "    print (res.get(timeout=1) )             # prints \"400\"\n",
        "\n",
        "    # evaluate \"os.getpid()\" asynchronously\n",
        "    res = pool.apply_async(os.getpid, ()) # runs in *only* one process\n",
        "    print( res.get(timeout=1)  )            # prints the PID of that process\n",
        "\n",
        "    # launching multiple evaluations asynchronously *may* use more processes\n",
        "    multiple_results = [pool.apply_async(os.getpid, ()) for i in range(4)]\n",
        "    print ([res.get(timeout=1) for res in multiple_results])\n",
        "\n",
        "    # make a single worker sleep for 10 secs\n",
        "    res = pool.apply_async(time.sleep, (10,))\n",
        "    try:\n",
        "        print( res.get(timeout=1))\n",
        "    except TimeoutError:\n",
        "        print (\"We lacked patience and got a multiprocessing.TimeoutError\")"
      ],
      "execution_count": 16,
      "outputs": [
        {
          "output_type": "stream",
          "text": [
            "[0, 1, 4, 9, 16, 25, 36, 49, 64, 81]\n",
            "0\n",
            "1\n",
            "4\n",
            "9\n",
            "16\n",
            "25\n",
            "36\n",
            "49\n",
            "64\n",
            "81\n",
            "400\n",
            "645\n",
            "[644, 644, 650, 645]\n",
            "We lacked patience and got a multiprocessing.TimeoutError\n"
          ],
          "name": "stdout"
        }
      ]
    },
    {
      "cell_type": "markdown",
      "metadata": {
        "id": "xh2j0desdTDp",
        "colab_type": "text"
      },
      "source": [
        "Observe que os métodos de um pool só devem ser usados ​​apenas pelo processo que o criou.\n",
        "\n",
        "\n",
        "\n"
      ]
    }
  ]
}